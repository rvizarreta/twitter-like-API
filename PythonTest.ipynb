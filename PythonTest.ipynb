{
 "cells": [
  {
   "cell_type": "code",
   "execution_count": 47,
   "id": "e7f73eb1-7939-4566-bfb3-35a5c799f925",
   "metadata": {},
   "outputs": [],
   "source": [
    "dicts = [\n",
    "     { \"name\": \"Tom\", \"age\": 10 },\n",
    "     { \"name\": \"Mark\", \"age\": 5 },\n",
    "     { \"name\": \"Pam\", \"age\": 7 },\n",
    "     { \"name\": \"Dick\", \"age\": 12 }\n",
    "]"
   ]
  },
  {
   "cell_type": "code",
   "execution_count": 48,
   "id": "af8b5f78-d94a-48eb-9da2-233ce68798a3",
   "metadata": {},
   "outputs": [
    {
     "data": {
      "text/plain": [
       "{'name': 'Pam', 'age': 7}"
      ]
     },
     "execution_count": 48,
     "metadata": {},
     "output_type": "execute_result"
    }
   ],
   "source": [
    "# Search in dict\n",
    "next(item for item in dicts if item[\"name\"] == \"Pam\")"
   ]
  },
  {
   "cell_type": "code",
   "execution_count": 60,
   "id": "1b6b23e7-aedf-411d-aec6-64ccdfb9e601",
   "metadata": {},
   "outputs": [
    {
     "data": {
      "text/plain": [
       "[{'name': 'Tom', 'age': 10},\n",
       " {'name': 'Mark', 'age': 5},\n",
       " {'name': 'Dick', 'age': 12}]"
      ]
     },
     "execution_count": 60,
     "metadata": {},
     "output_type": "execute_result"
    }
   ],
   "source": [
    "# Delete dict in list of dicts\n",
    "new_dict = []\n",
    "list(new_dict.append(item) for item in dicts if item[\"name\"] != \"Pam\")\n",
    "new_dict"
   ]
  },
  {
   "cell_type": "code",
   "execution_count": 57,
   "id": "f84ada5c-49a7-41b3-b890-d28426c4c4a8",
   "metadata": {},
   "outputs": [],
   "source": [
    "values_of_key = [dic['name'] for dic in dicts]"
   ]
  },
  {
   "cell_type": "code",
   "execution_count": 58,
   "id": "c9b9a9d4-f890-46f2-8214-90efe6af9d1f",
   "metadata": {},
   "outputs": [
    {
     "data": {
      "text/plain": [
       "['Tom', 'Mark', 'Pam', 'Dick']"
      ]
     },
     "execution_count": 58,
     "metadata": {},
     "output_type": "execute_result"
    }
   ],
   "source": [
    "values_of_key"
   ]
  },
  {
   "cell_type": "code",
   "execution_count": 59,
   "id": "8ae5c25b-cce9-498e-bc77-7bca2cd9a248",
   "metadata": {},
   "outputs": [
    {
     "data": {
      "text/plain": [
       "\"['Tom', 'Mark', 'Pam', 'Dick']\""
      ]
     },
     "execution_count": 59,
     "metadata": {},
     "output_type": "execute_result"
    }
   ],
   "source": [
    "str(values_of_key)"
   ]
  },
  {
   "cell_type": "code",
   "execution_count": 63,
   "id": "014f4720-2ef3-4716-b342-f2a0e2dc3fb0",
   "metadata": {},
   "outputs": [
    {
     "data": {
      "text/plain": [
       "'[{\"name\": \"Tom\", \"age\": 10}, {\"name\": \"Mark\", \"age\": 5}, {\"name\": \"Pam\", \"age\": 7}, {\"name\": \"Dick\", \"age\": 12}]'"
      ]
     },
     "execution_count": 63,
     "metadata": {},
     "output_type": "execute_result"
    }
   ],
   "source": [
    "import json\n",
    "json.dumps(dicts)"
   ]
  },
  {
   "cell_type": "code",
   "execution_count": null,
   "id": "45dd1676-2e12-46d1-b731-4165a221d55d",
   "metadata": {},
   "outputs": [],
   "source": []
  }
 ],
 "metadata": {
  "kernelspec": {
   "display_name": "Python 3",
   "language": "python",
   "name": "python3"
  },
  "language_info": {
   "codemirror_mode": {
    "name": "ipython",
    "version": 3
   },
   "file_extension": ".py",
   "mimetype": "text/x-python",
   "name": "python",
   "nbconvert_exporter": "python",
   "pygments_lexer": "ipython3",
   "version": "3.8.8"
  }
 },
 "nbformat": 4,
 "nbformat_minor": 5
}
